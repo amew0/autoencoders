{
 "cells": [
  {
   "cell_type": "code",
   "execution_count": 1,
   "metadata": {},
   "outputs": [],
   "source": [
    "import torch\n",
    "import torch.nn as nn\n",
    "import torch.nn.functional as F\n",
    "import torch.optim as optim\n",
    "from torchvision import datasets, transforms\n",
    "import matplotlib.pyplot as plt\n",
    "\n",
    "from torchsummary import summary\n",
    "\n",
    "import pandas as pd\n",
    "import numpy as np\n",
    "from matplotlib import  pyplot as plt\n",
    "\n"
   ]
  },
  {
   "cell_type": "code",
   "execution_count": 14,
   "metadata": {},
   "outputs": [],
   "source": [
    "import torch\n",
    "import torch.nn as nn\n",
    "from torch.utils.data import DataLoader, Dataset\n",
    "from torchvision import transforms\n",
    "import pandas as pd\n",
    "import numpy as np\n",
    "device=\"cpu\" if not torch.cuda.is_available() else \"cuda:0\""
   ]
  },
  {
   "cell_type": "code",
   "execution_count": 15,
   "metadata": {},
   "outputs": [],
   "source": [
    "DATA_PATH = \"./data/eit/24x24_Images_11Cond_30k_2022-02-23.csv\""
   ]
  },
  {
   "cell_type": "code",
   "execution_count": 16,
   "metadata": {},
   "outputs": [],
   "source": [
    "# Step 1: Define the custom dataset class\n",
    "class CustomDataset(Dataset):\n",
    "    def __init__(self, csv_file, transform=None):\n",
    "        self.data = pd.read_csv(csv_file)\n",
    "        self.transform = transform\n",
    "\n",
    "    def __len__(self):\n",
    "        return len(self.data)\n",
    "\n",
    "    def __getitem__(self, idx):\n",
    "        image_data = np.array(self.data.iloc[idx].values,dtype=np.float32)\n",
    "        image = np.tanh(image_data.reshape(24, 24))  # Reshape to 24x24 and convert to PIL Image\n",
    "        if self.transform:\n",
    "            image = self.transform(image)\n",
    "\n",
    "        return image\n",
    "\n",
    "# Step 2: Define the transformation pipeline\n",
    "transform = transforms.Compose([\n",
    "    transforms.ToTensor(),\n",
    "    # Add other transformations if needed\n",
    "])\n",
    "\n",
    "# Step 3: Create a DataLoader\n",
    "batch_size = 64  # Adjust this according to your needs\n",
    "dataset = CustomDataset(csv_file=DATA_PATH, transform=transform)\n",
    "dataloader = DataLoader(dataset, batch_size=batch_size, shuffle=True)"
   ]
  },
  {
   "cell_type": "code",
   "execution_count": null,
   "metadata": {},
   "outputs": [],
   "source": [
    "# Step 4: Iterate through the DataLoader\n",
    "dataiter = iter(dataloader)\n",
    "for batch in dataiter:\n",
    "    print(batch.shape)\n",
    "    print(torch.min(batch),torch.max(batch))\n",
    "    conv1 = nn.Conv2d(1, 16, 3, 2, 1) \n",
    "    conv2 = nn.Conv2d(16, 32, 3, 2, 1) \n",
    "    conv3 = nn.Conv2d(32, 64, 5) \n",
    "    dconv1 = nn.ConvTranspose2d(64, 32, 5)\n",
    "    dconv2 = nn.ConvTranspose2d(32, 16, 3, stride=2, padding=1, output_padding=0)\n",
    "    print(conv1(batch).shape)\n",
    "    print(conv2(conv1(batch)).shape)\n",
    "    print(conv3(conv2(conv1(batch))).shape)\n",
    "    print(dconv1(conv3(conv2(conv1(batch)))).shape)\n",
    "    print(dconv2(dconv1(conv3(conv2(conv1(batch))))).shape)\n",
    "    break"
   ]
  },
  {
   "cell_type": "code",
   "execution_count": 6,
   "metadata": {},
   "outputs": [],
   "source": [
    "torch.manual_seed(123)\n",
    "np.random.seed(123)"
   ]
  },
  {
   "cell_type": "code",
   "execution_count": 32,
   "metadata": {},
   "outputs": [],
   "source": [
    "def e_out(i,k,s=1,p=0):\n",
    "    o = int((i - k + 2*p) / s + 1)\n",
    "    return o\n",
    "def d_out(i,k,s=1,p=0,output_padding=0):\n",
    "    o = int((i - 1) * s + k - 2*p) + output_padding\n",
    "    return o"
   ]
  },
  {
   "cell_type": "code",
   "execution_count": 39,
   "metadata": {},
   "outputs": [],
   "source": [
    "class AutoencoderEIT(nn.Module):\n",
    "    def __init__(self):\n",
    "        super().__init__()     \n",
    "        # N, 1, 24, 24\n",
    "        self.encoder = nn.Sequential(\n",
    "            nn.Conv2d(1, 16, 3, stride=2, padding=1), # -> N, 16, 12, 12\n",
    "            nn.ReLU(),\n",
    "            nn.Conv2d(16, 32, 3, stride=2, padding=1), # - > N, 32, 6, 6\n",
    "            nn.ReLU(),\n",
    "            nn.Conv2d(32, 64, 5), # -> N, 64, 2, 2\n",
    "            nn.ReLU()\n",
    "        )\n",
    "        \n",
    "        # N , 64, 1, 1\n",
    "        self.decoder = nn.Sequential(\n",
    "            nn.ConvTranspose2d(64, 32, 5), # -> N, 32, 6, 6\n",
    "            nn.ReLU(),\n",
    "            nn.ConvTranspose2d(32, 16, 3, stride=2, padding=1, output_padding=1), # N, 16, 12, 12 (N,16,11,11 without output_padding)\n",
    "            nn.ReLU(),\n",
    "            nn.ConvTranspose2d(16, 1, 3, stride=2, padding=1, output_padding=1), # N, 1, 24, 24  (N,1,23,23)\n",
    "            nn.Tanh()\n",
    "        )\n",
    "\n",
    "    def forward(self, x):\n",
    "        encoded = self.encoder(x)\n",
    "        decoded = self.decoder(encoded)\n",
    "        return decoded\n",
    "    \n",
    " \n",
    "# Note: nn.MaxPool2d -> use nn.MaxUnpool2d, or use different kernelsize, stride etc to compensate...\n",
    "# Input [-1, +1] -> use nn.Tanh"
   ]
  },
  {
   "cell_type": "code",
   "execution_count": 40,
   "metadata": {},
   "outputs": [],
   "source": [
    "model = AutoencoderEIT()\n",
    "criterion = nn.MSELoss()\n",
    "optimizer = torch.optim.Adam(model.parameters(),\n",
    "                             lr=1e-3,\n",
    "                             weight_decay=1e-5)"
   ]
  },
  {
   "cell_type": "code",
   "execution_count": 94,
   "metadata": {},
   "outputs": [
    {
     "data": {
      "text/plain": [
       "AutoencoderEIT(\n",
       "  (encoder): Sequential(\n",
       "    (0): Conv2d(1, 16, kernel_size=(3, 3), stride=(2, 2), padding=(1, 1))\n",
       "    (1): ReLU()\n",
       "    (2): Conv2d(16, 32, kernel_size=(3, 3), stride=(2, 2), padding=(1, 1))\n",
       "    (3): ReLU()\n",
       "    (4): Conv2d(32, 64, kernel_size=(5, 5), stride=(1, 1))\n",
       "    (5): ReLU()\n",
       "  )\n",
       "  (decoder): Sequential(\n",
       "    (0): ConvTranspose2d(64, 32, kernel_size=(5, 5), stride=(1, 1))\n",
       "    (1): ReLU()\n",
       "    (2): ConvTranspose2d(32, 16, kernel_size=(3, 3), stride=(2, 2), padding=(1, 1), output_padding=(1, 1))\n",
       "    (3): ReLU()\n",
       "    (4): ConvTranspose2d(16, 1, kernel_size=(3, 3), stride=(2, 2), padding=(1, 1), output_padding=(1, 1))\n",
       "    (5): Tanh()\n",
       "  )\n",
       ")"
      ]
     },
     "execution_count": 94,
     "metadata": {},
     "output_type": "execute_result"
    }
   ],
   "source": [
    "model"
   ]
  },
  {
   "cell_type": "code",
   "execution_count": null,
   "metadata": {},
   "outputs": [],
   "source": [
    "def psnr(reconstructed_image, ground_truth_image):\n",
    "    # Calculate the Mean Squared Error (MSE)\n",
    "    mse = F.mse_loss(reconstructed_image, ground_truth_image)\n",
    "    print(mse)\n",
    "    print(nn.MSELoss()(reconstructed_image, ground_truth_image))\n",
    "    # Calculate the maximum possible pixel value (assuming pixel values are in the range [0, 1])\n",
    "    max_pixel_value = 1.0\n",
    "    \n",
    "    # Calculate PSNR using the formula: PSNR = 20 * log10(max_pixel_value / sqrt(MSE))\n",
    "    psnr = 20 * torch.log10(max_pixel_value / torch.sqrt(mse))\n",
    "    \n",
    "    return psnr.item()  # Convert the result to a Python float\n",
    "\n",
    "# # Usage example\n",
    "# reconstructed_image = torch.rand(1, 3, 256, 256)  # Replace with your reconstructed image tensor\n",
    "# ground_truth_image = torch.rand(1, 3, 256, 256)   # Replace with your ground truth image tensor\n",
    "\n",
    "# psnr_value = psnr(reconstructed_image, ground_truth_image)\n",
    "# print(f\"PSNR: {psnr_value:.2f} dB\")"
   ]
  },
  {
   "cell_type": "code",
   "execution_count": 13,
   "metadata": {},
   "outputs": [
    {
     "name": "stdout",
     "output_type": "stream",
     "text": [
      "Epoch:1, Loss:0.000625\n",
      "Epoch:2, Loss:0.000616\n",
      "Epoch:3, Loss:0.000704\n",
      "Epoch:4, Loss:0.000845\n",
      "Epoch:5, Loss:0.000588\n",
      "Epoch:6, Loss:0.000662\n",
      "Epoch:7, Loss:0.000671\n",
      "Epoch:8, Loss:0.000519\n",
      "Epoch:9, Loss:0.000437\n",
      "Epoch:10, Loss:0.000543\n",
      "Epoch:11, Loss:0.000698\n",
      "Epoch:12, Loss:0.000448\n",
      "Epoch:13, Loss:0.000760\n",
      "Epoch:14, Loss:0.000486\n",
      "Epoch:15, Loss:0.000459\n",
      "Epoch:16, Loss:0.000511\n",
      "Epoch:17, Loss:0.000481\n",
      "Epoch:18, Loss:0.000591\n",
      "Epoch:19, Loss:0.000429\n",
      "Epoch:20, Loss:0.000646\n",
      "Epoch:21, Loss:0.000487\n",
      "Epoch:22, Loss:0.000483\n",
      "Epoch:23, Loss:0.000333\n",
      "Epoch:24, Loss:0.000442\n",
      "Epoch:25, Loss:0.000281\n",
      "Epoch:26, Loss:0.000391\n",
      "Epoch:27, Loss:0.000292\n",
      "Epoch:28, Loss:0.000396\n",
      "Epoch:29, Loss:0.000367\n",
      "Epoch:30, Loss:0.000361\n",
      "Epoch:31, Loss:0.000421\n",
      "Epoch:32, Loss:0.000333\n",
      "Epoch:33, Loss:0.000356\n",
      "Epoch:34, Loss:0.000413\n",
      "Epoch:35, Loss:0.000412\n",
      "Epoch:36, Loss:0.000407\n",
      "Epoch:37, Loss:0.000435\n",
      "Epoch:38, Loss:0.000341\n",
      "Epoch:39, Loss:0.000309\n",
      "Epoch:40, Loss:0.000585\n",
      "Epoch:41, Loss:0.000520\n",
      "Epoch:42, Loss:0.000437\n",
      "Epoch:43, Loss:0.000482\n",
      "Epoch:44, Loss:0.000441\n",
      "Epoch:45, Loss:0.000312\n",
      "Epoch:46, Loss:0.000446\n",
      "Epoch:47, Loss:0.000382\n",
      "Epoch:48, Loss:0.000272\n",
      "Epoch:49, Loss:0.000371\n",
      "Epoch:50, Loss:0.000512\n",
      "Epoch:51, Loss:0.000415\n",
      "Epoch:52, Loss:0.000390\n",
      "Epoch:53, Loss:0.000514\n",
      "Epoch:54, Loss:0.000383\n",
      "Epoch:55, Loss:0.000355\n",
      "Epoch:56, Loss:0.000416\n",
      "Epoch:57, Loss:0.000447\n",
      "Epoch:58, Loss:0.000426\n",
      "Epoch:59, Loss:0.000355\n",
      "Epoch:60, Loss:0.000370\n",
      "Epoch:61, Loss:0.000412\n",
      "Epoch:62, Loss:0.000405\n",
      "Epoch:63, Loss:0.000412\n",
      "Epoch:64, Loss:0.000459\n",
      "Epoch:65, Loss:0.000523\n",
      "Epoch:66, Loss:0.000423\n",
      "Epoch:67, Loss:0.000356\n",
      "Epoch:68, Loss:0.000337\n",
      "Epoch:69, Loss:0.000413\n",
      "Epoch:70, Loss:0.000262\n",
      "Epoch:71, Loss:0.000266\n",
      "Epoch:72, Loss:0.000190\n",
      "Epoch:73, Loss:0.000342\n",
      "Epoch:74, Loss:0.000309\n",
      "Epoch:75, Loss:0.000295\n",
      "Epoch:76, Loss:0.000393\n",
      "Epoch:77, Loss:0.000395\n",
      "Epoch:78, Loss:0.000294\n",
      "Epoch:79, Loss:0.000319\n",
      "Epoch:80, Loss:0.000350\n",
      "Epoch:81, Loss:0.000276\n",
      "Epoch:82, Loss:0.000340\n",
      "Epoch:83, Loss:0.000359\n",
      "Epoch:84, Loss:0.000302\n",
      "Epoch:85, Loss:0.000391\n",
      "Epoch:86, Loss:0.000315\n",
      "Epoch:87, Loss:0.000331\n",
      "Epoch:88, Loss:0.000213\n",
      "Epoch:89, Loss:0.000443\n",
      "Epoch:90, Loss:0.000297\n",
      "Epoch:91, Loss:0.000292\n",
      "Epoch:92, Loss:0.000366\n",
      "Epoch:93, Loss:0.000295\n",
      "Epoch:94, Loss:0.000265\n",
      "Epoch:95, Loss:0.000360\n",
      "Epoch:96, Loss:0.000260\n",
      "Epoch:97, Loss:0.000378\n",
      "Epoch:98, Loss:0.000339\n",
      "Epoch:99, Loss:0.000328\n",
      "Epoch:100, Loss:0.000276\n"
     ]
    }
   ],
   "source": [
    "# Point to training loop video\n",
    "num_epochs = 100\n",
    "outputs = []\n",
    "for epoch in range(num_epochs):\n",
    "    for i, (img) in enumerate(dataloader):\n",
    "        recon = model(img)\n",
    "        loss = criterion(recon, img)\n",
    "        \n",
    "        optimizer.zero_grad()\n",
    "        loss.backward()\n",
    "        optimizer.step()\n",
    "\n",
    "    print(f'Epoch:{epoch+1}, Loss:{loss.item():.6f}')\n",
    "    outputs.append((epoch, img, recon,loss.item()))\n"
   ]
  },
  {
   "cell_type": "code",
   "execution_count": 17,
   "metadata": {},
   "outputs": [
    {
     "data": {
      "image/png": "[encoded data removed]",
      "text/plain": [
       "<Figure size 900x200 with 18 Axes>"
      ]
     },
     "metadata": {},
     "output_type": "display_data"
    },
    {
     "data": {
      "image/png": "[encoded data removed]",
      "text/plain": [
       "<Figure size 900x200 with 18 Axes>"
      ]
     },
     "metadata": {},
     "output_type": "display_data"
    },
    {
     "data": {
      "image/png": "[encoded data removed]",
      "text/plain": [
       "<Figure size 900x200 with 18 Axes>"
      ]
     },
     "metadata": {},
     "output_type": "display_data"
    },
    {
     "data": {
      "image/png": "[encoded data removed]",
      "text/plain": [
       "<Figure size 900x200 with 18 Axes>"
      ]
     },
     "metadata": {},
     "output_type": "display_data"
    },
    {
     "data": {
      "image/png": "[encoded data removed]",
      "text/plain": [
       "<Figure size 900x200 with 18 Axes>"
      ]
     },
     "metadata": {},
     "output_type": "display_data"
    }
   ],
   "source": [
    "for k in range(0, num_epochs, 20):\n",
    "    plt.figure(figsize=(9, 2))\n",
    "    plt.gray()\n",
    "    imgs = outputs[k][1].detach().numpy()\n",
    "    recon = outputs[k][2].detach().numpy()\n",
    "    for i, item in enumerate(imgs):\n",
    "        if i >= 9: break\n",
    "        plt.subplot(2, 9, i+1)\n",
    "        plt.axis('off')\n",
    "        # item: 1, 28, 28\n",
    "        plt.imshow(item[0])\n",
    "            \n",
    "    for i, item in enumerate(recon):\n",
    "        if i >= 9: break\n",
    "        plt.subplot(2, 9, 9+i+1) # row_length + i + 1\n",
    "        plt.axis('off')\n",
    "        plt.imshow(item[0])\n",
    "    plt.tight_layout()\n"
   ]
  }
 ],
 "metadata": {
  "kernelspec": {
   "display_name": "eit",
   "language": "python",
   "name": "python3"
  },
  "language_info": {
   "codemirror_mode": {
    "name": "ipython",
    "version": 3
   },
   "file_extension": ".py",
   "mimetype": "text/x-python",
   "name": "python",
   "nbconvert_exporter": "python",
   "pygments_lexer": "ipython3",
   "version": "3.11.5"
  },
  "orig_nbformat": 4
 },
 "nbformat": 4,
 "nbformat_minor": 2
}
